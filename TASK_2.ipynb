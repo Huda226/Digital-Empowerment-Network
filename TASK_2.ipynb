{
  "cells": [
    {
      "cell_type": "code",
      "source": [],
      "metadata": {
        "id": "fqz-5NH-mEyy"
      },
      "execution_count": null,
      "outputs": []
    },
    {
      "cell_type": "code",
      "source": [
        "# Import required libraries\n",
        "import pandas as pd\n",
        "import re\n",
        "import nltk\n",
        "from nltk.corpus import stopwords\n",
        "from nltk.stem import PorterStemmer\n",
        "from nltk.tokenize import word_tokenize\n",
        "from sklearn.feature_extraction.text import TfidfVectorizer\n",
        "from sklearn.model_selection import train_test_split\n",
        "from sklearn.naive_bayes import MultinomialNB\n",
        "from sklearn.svm import SVC\n",
        "from sklearn.metrics import accuracy_score\n",
        "import matplotlib.pyplot as plt\n",
        "\n",
        "\n",
        "\n",
        "\n",
        "# Step 1: Load the data\n",
        "df = pd.read_csv('/content/emailmmm.csv')\n",
        "\n",
        "# Step 2: Preprocess the text\n",
        "stop_words = set(stopwords.words('english'))\n",
        "ps = PorterStemmer()\n",
        "\n",
        "def preprocess_text(text):\n",
        "    # Remove special characters and numbers\n",
        "    text = re.sub(r'\\W', ' ', text)\n",
        "    text = re.sub(r'\\d+', ' ', text)\n",
        "\n",
        "    # Convert to lowercase\n",
        "    text = text.lower()\n",
        "\n",
        "    # Tokenize the text\n",
        "    tokens = word_tokenize(text)\n",
        "\n",
        "\n",
        "    tokens = [ps.stem(word) for word in tokens if word not in stop_words]\n",
        "\n",
        "\n",
        "    return ' '.join(tokens)\n",
        "\n",
        "# Apply preprocessing to the dataset\n",
        "df['cleaned_text'] = df['text'].apply(preprocess_text)\n",
        "\n",
        "# Step 3: Feature Extraction\n",
        "tfidf = TfidfVectorizer(max_features=3000)\n",
        "X = tfidf.fit_transform(df['cleaned_text']).toarray()\n",
        "y = df['spam']\n",
        "\n",
        "# Step 4: Split the data\n",
        "X_train, X_test, y_train, y_test = train_test_split(X, y, test_size=0.2, random_state=42)\n",
        "\n",
        "# Step 5: Train Naive Bayes Classifier\n",
        "nb_model = MultinomialNB()\n",
        "nb_model.fit(X_train, y_train)\n",
        "\n",
        "# Predict using Naive Bayes\n",
        "y_nb_pred = nb_model.predict(X_test)\n",
        "\n",
        "# Step 6: Train SVM Classifier\n",
        "svm_model = SVC(kernel='linear')\n",
        "svm_model.fit(X_train, y_train)\n",
        "\n",
        "# Predict using SVM\n",
        "y_svm_pred = svm_model.predict(X_test)\n",
        "\n",
        "# Step 7: Calculate Accuracy for Both Models\n",
        "\n",
        "# Naive Bayes Accuracy\n",
        "nb_accuracy = accuracy_score(y_test, y_nb_pred)\n",
        "print(f\"Naive Bayes Accuracy: {nb_accuracy:.2f}\")\n",
        "\n",
        "# SVM Accuracy\n",
        "svm_accuracy = accuracy_score(y_test, y_svm_pred)\n",
        "print(f\"SVM Accuracy: {svm_accuracy:.2f}\")\n",
        "\n",
        "# Step 8: Plot the results\n",
        "\n",
        "# Create a bar plot to compare the accuracy of Naive Bayes and SVM\n",
        "model_names = ['Naive Bayes', 'SVM']\n",
        "accuracies = [nb_accuracy, svm_accuracy]\n",
        "\n",
        "plt.bar(model_names, accuracies, color=['blue', 'green'])\n",
        "plt.title('Comparison of Naive Bayes and SVM Accuracy')\n",
        "plt.ylabel('Accuracy')\n",
        "plt.ylim(0, 1)  # Limit the y-axis from 0 to 1 (100%)\n",
        "plt.show()\n"
      ],
      "metadata": {
        "colab": {
          "base_uri": "https://localhost:8080/",
          "height": 487
        },
        "id": "lovyymQhmPYX",
        "outputId": "23921d61-51a7-4e76-e79d-5ea4ff47c42c"
      },
      "execution_count": null,
      "outputs": [
        {
          "output_type": "stream",
          "name": "stdout",
          "text": [
            "Naive Bayes Accuracy: 0.98\n",
            "SVM Accuracy: 0.99\n"
          ]
        },
        {
          "output_type": "display_data",
          "data": {
            "text/plain": [
              "<Figure size 640x480 with 1 Axes>"
            ],
            "image/png": "[encoded data removed]"
          },
          "metadata": {}
        }
      ]
    }
  ],
  "metadata": {
    "colab": {
      "provenance": []
    },
    "kernelspec": {
      "display_name": "Python 3",
      "name": "python3"
    },
    "language_info": {
      "name": "python"
    }
  },
  "nbformat": 4,
  "nbformat_minor": 0
}